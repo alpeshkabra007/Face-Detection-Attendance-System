{
 "cells": [
  {
   "cell_type": "code",
   "execution_count": 5,
   "metadata": {},
   "outputs": [
    {
     "name": "stdout",
     "output_type": "stream",
     "text": [
      "Empty DataFrame\n",
      "Columns: [Id, Name, Date, Time]\n",
      "Index: []\n",
      "0\n",
      "   Id     Name        Date      Time\n",
      "0  61  [pawan]  2019-05-04  19:34:03\n"
     ]
    }
   ],
   "source": [
    "import pandas as pd\n",
    "import numpy as np\n",
    "import datetime\n",
    "import time\n",
    "df=pd.read_csv(\"StudentDetails\\StudentDetails.csv\")       \n",
    "col_names =  ['Id','Name','Date','Time']\n",
    "attendance = pd.DataFrame(columns = col_names)\n",
    "print(attendance)\n",
    "ts = time.time()      \n",
    "date = datetime.datetime.fromtimestamp(ts).strftime('%Y-%m-%d')\n",
    "timeStamp = datetime.datetime.fromtimestamp(ts).strftime('%H:%M:%S')\n",
    "Id=61\n",
    "aa=df.loc[df['Id'] == Id]['Name'].values\n",
    "tt=str(Id)+\"-\"+aa\n",
    "print(len(attendance))\n",
    "attendance.loc[len(attendance)] = [Id,aa,date,timeStamp]\n",
    "print(attendance)"
   ]
  },
  {
   "cell_type": "code",
   "execution_count": 33,
   "metadata": {},
   "outputs": [
    {
     "data": {
      "text/plain": [
       "<sqlite3.Cursor at 0x1d64b7ae8f0>"
      ]
     },
     "execution_count": 33,
     "metadata": {},
     "output_type": "execute_result"
    }
   ],
   "source": [
    "import sqlite3\n",
    "import webbrowser\n",
    "conn = sqlite3.connect('practice.db')\n",
    "\n",
    "c = conn.cursor()\n",
    "\n",
    "sql = \"\"\"\n",
    "DROP TABLE IF EXISTS users1;\n",
    "CREATE TABLE users1 (\n",
    "           id integer unique primary key autoincrement,\n",
    "           departure datetime,\n",
    "           route_id int\n",
    ");\n",
    "\"\"\"\n",
    "c.executescript(sql)\n",
    "\n"
   ]
  },
  {
   "cell_type": "code",
   "execution_count": 34,
   "metadata": {},
   "outputs": [],
   "source": [
    "\n",
    "import pandas as pd\n",
    "from datetime import datetime"
   ]
  },
  {
   "cell_type": "code",
   "execution_count": 35,
   "metadata": {},
   "outputs": [],
   "source": [
    "\n",
    "df = pd.DataFrame(\n",
    "    [[1, datetime(2016, 9, 29, 0, 0) , 1]],\n",
    "     columns=[\"id\", \"departure\",  \"route_id\"])\n"
   ]
  },
  {
   "cell_type": "code",
   "execution_count": 36,
   "metadata": {},
   "outputs": [],
   "source": [
    "\n",
    "df.to_sql(\"users\",conn,if_exists='replace')\n"
   ]
  },
  {
   "cell_type": "code",
   "execution_count": 37,
   "metadata": {},
   "outputs": [
    {
     "data": {
      "text/html": [
       "<div>\n",
       "<style scoped>\n",
       "    .dataframe tbody tr th:only-of-type {\n",
       "        vertical-align: middle;\n",
       "    }\n",
       "\n",
       "    .dataframe tbody tr th {\n",
       "        vertical-align: top;\n",
       "    }\n",
       "\n",
       "    .dataframe thead th {\n",
       "        text-align: right;\n",
       "    }\n",
       "</style>\n",
       "<table border=\"1\" class=\"dataframe\">\n",
       "  <thead>\n",
       "    <tr style=\"text-align: right;\">\n",
       "      <th></th>\n",
       "      <th>index</th>\n",
       "      <th>id</th>\n",
       "      <th>departure</th>\n",
       "      <th>route_id</th>\n",
       "    </tr>\n",
       "  </thead>\n",
       "  <tbody>\n",
       "    <tr>\n",
       "      <th>0</th>\n",
       "      <td>0</td>\n",
       "      <td>1</td>\n",
       "      <td>2016-09-29 00:00:00</td>\n",
       "      <td>1</td>\n",
       "    </tr>\n",
       "  </tbody>\n",
       "</table>\n",
       "</div>"
      ],
      "text/plain": [
       "   index  id            departure  route_id\n",
       "0      0   1  2016-09-29 00:00:00         1"
      ]
     },
     "execution_count": 37,
     "metadata": {},
     "output_type": "execute_result"
    }
   ],
   "source": [
    "df = pd.read_sql_query(\"select * from users limit 5;\", conn)\n",
    "df"
   ]
  },
  {
   "cell_type": "code",
   "execution_count": 44,
   "metadata": {},
   "outputs": [
    {
     "ename": "ProgrammingError",
     "evalue": "Cannot operate on a closed database.",
     "output_type": "error",
     "traceback": [
      "\u001b[1;31m---------------------------------------------------------------------------\u001b[0m",
      "\u001b[1;31mProgrammingError\u001b[0m                          Traceback (most recent call last)",
      "\u001b[1;32m<ipython-input-44-69ace55b8b7b>\u001b[0m in \u001b[0;36m<module>\u001b[1;34m()\u001b[0m\n\u001b[1;32m----> 1\u001b[1;33m \u001b[0mc\u001b[0m\u001b[1;33m.\u001b[0m\u001b[0mexecute\u001b[0m\u001b[1;33m(\u001b[0m\u001b[1;34m'select * from users'\u001b[0m\u001b[1;33m)\u001b[0m\u001b[1;33m\u001b[0m\u001b[0m\n\u001b[0m\u001b[0;32m      2\u001b[0m \u001b[0mconn\u001b[0m\u001b[1;33m.\u001b[0m\u001b[0mcommit\u001b[0m\u001b[1;33m(\u001b[0m\u001b[1;33m)\u001b[0m\u001b[1;33m\u001b[0m\u001b[0m\n\u001b[0;32m      3\u001b[0m \u001b[0mconn\u001b[0m\u001b[1;33m.\u001b[0m\u001b[0mclose\u001b[0m\u001b[1;33m(\u001b[0m\u001b[1;33m)\u001b[0m\u001b[1;33m\u001b[0m\u001b[0m\n",
      "\u001b[1;31mProgrammingError\u001b[0m: Cannot operate on a closed database."
     ]
    }
   ],
   "source": [
    "c.execute('select * from users')\n",
    "conn.commit()\n",
    "conn.close()"
   ]
  },
  {
   "cell_type": "code",
   "execution_count": 49,
   "metadata": {},
   "outputs": [
    {
     "ename": "PermissionError",
     "evalue": "[Errno 13] Permission denied: 'StudentDetails\\\\StudentDetails.csv'",
     "output_type": "error",
     "traceback": [
      "\u001b[1;31m---------------------------------------------------------------------------\u001b[0m",
      "\u001b[1;31mPermissionError\u001b[0m                           Traceback (most recent call last)",
      "\u001b[1;32m<ipython-input-49-5e4169744fbc>\u001b[0m in \u001b[0;36m<module>\u001b[1;34m()\u001b[0m\n\u001b[0;32m      4\u001b[0m \u001b[0mname\u001b[0m\u001b[1;33m=\u001b[0m\u001b[1;34m\"plk\"\u001b[0m\u001b[1;33m\u001b[0m\u001b[0m\n\u001b[0;32m      5\u001b[0m \u001b[0mrow\u001b[0m \u001b[1;33m=\u001b[0m \u001b[1;33m[\u001b[0m\u001b[0mId\u001b[0m \u001b[1;33m,\u001b[0m \u001b[0mname\u001b[0m\u001b[1;33m]\u001b[0m\u001b[1;33m\u001b[0m\u001b[0m\n\u001b[1;32m----> 6\u001b[1;33m \u001b[1;32mwith\u001b[0m \u001b[0mopen\u001b[0m\u001b[1;33m(\u001b[0m\u001b[1;34m'StudentDetails\\StudentDetails.csv'\u001b[0m\u001b[1;33m,\u001b[0m\u001b[1;34m'a'\u001b[0m\u001b[1;33m)\u001b[0m \u001b[1;32mas\u001b[0m \u001b[0mcsvFile\u001b[0m\u001b[1;33m:\u001b[0m\u001b[1;33m\u001b[0m\u001b[0m\n\u001b[0m\u001b[0;32m      7\u001b[0m     \u001b[0mwriter\u001b[0m \u001b[1;33m=\u001b[0m \u001b[0mcsv\u001b[0m\u001b[1;33m.\u001b[0m\u001b[0mwriter\u001b[0m\u001b[1;33m(\u001b[0m\u001b[0mcsvFile\u001b[0m\u001b[1;33m)\u001b[0m\u001b[1;33m\u001b[0m\u001b[0m\n\u001b[0;32m      8\u001b[0m     \u001b[0mwriter\u001b[0m\u001b[1;33m.\u001b[0m\u001b[0mwriterow\u001b[0m\u001b[1;33m(\u001b[0m\u001b[0mrow\u001b[0m\u001b[1;33m)\u001b[0m\u001b[1;33m\u001b[0m\u001b[0m\n",
      "\u001b[1;31mPermissionError\u001b[0m: [Errno 13] Permission denied: 'StudentDetails\\\\StudentDetails.csv'"
     ]
    }
   ],
   "source": [
    "import csv\n",
    "import shutil\n",
    "Id=12345\n",
    "name=\"plk\"\n",
    "row = [Id , name]\n",
    "with open('StudentDetails\\StudentDetails.csv','a') as csvFile:\n",
    "    writer = csv.writer(csvFile)\n",
    "    writer.writerow(row)\n",
    "csvFile.close()"
   ]
  },
  {
   "cell_type": "code",
   "execution_count": 56,
   "metadata": {},
   "outputs": [],
   "source": [
    "import csv\n",
    "import os.path\n",
    "from os import path\n",
    "if(not path.exists('my2.csv')):\n",
    "    with open('my2.csv','w') as newFile:\n",
    "        newFileWriter=csv.writer(newFile)\n",
    "        newFileWriter.writerow([3,'xxx'])\n",
    "        newFileWriter.writerow([4,'yyy'])\n",
    "        newFileWriter.writerow([5,'zzz'])\n",
    "if(not path.exists('my1.csv')):\n",
    "    with open('my1.csv','w') as newFile:\n",
    "        newFileWriter=csv.writer(newFile)\n",
    "        newFileWriter.writerow([3,'xxx'])\n",
    "        newFileWriter.writerow([4,'yyy'])\n",
    "        newFileWriter.writerow([5,'zzz'])\n",
    "    \n",
    "import csv\n",
    "with open('my2.csv','a') as newFile:\n",
    "    newFileWriter=csv.writer(newFile)\n",
    "    with open('my1.csv', 'r') as f:\n",
    "        reader = csv.reader(f)    \n",
    "        for row in reader:\n",
    "            newFileWriter.writerow(row)"
   ]
  },
  {
   "cell_type": "code",
   "execution_count": 57,
   "metadata": {},
   "outputs": [
    {
     "name": "stdout",
     "output_type": "stream",
     "text": [
      "Empty DataFrame\n",
      "Columns: []\n",
      "Index: []\n"
     ]
    }
   ],
   "source": [
    "import pandas as pd\n",
    "atten=pd.DataFrame()\n",
    "print(atten)"
   ]
  },
  {
   "cell_type": "code",
   "execution_count": 58,
   "metadata": {},
   "outputs": [],
   "source": [
    "import csv\n",
    "with open('commonFile1.csv','w') as newFile:\n",
    "        newFileWriter=csv.writer(newFile)\n",
    "        fieldnames = ('Floor', 'Use', 'Square Footage', 'Price', 'RoomID', 'Capacity')\n",
    "        writer = csv.DictWriter(newFile, fieldnames=fieldnames)\n",
    "        writer.writeheader()\n",
    "        "
   ]
  },
  {
   "cell_type": "code",
   "execution_count": 61,
   "metadata": {},
   "outputs": [
    {
     "name": "stdout",
     "output_type": "stream",
     "text": [
      "1557038276.7674396\n",
      "2019-05-05\n",
      "12:07:56\n"
     ]
    }
   ],
   "source": [
    "import time\n",
    "import datetime\n",
    "ts = time.time()      \n",
    "date = datetime.datetime.fromtimestamp(ts).strftime('%Y-%m-%d')\n",
    "timeStamp = datetime.datetime.fromtimestamp(ts).strftime('%H:%M:%S')\n",
    "print(ts)\n",
    "print(date)\n",
    "print(timeStamp)\n",
    "                "
   ]
  },
  {
   "cell_type": "code",
   "execution_count": 63,
   "metadata": {},
   "outputs": [],
   "source": [
    "import pandas as pd\n",
    "import numpy as np\n",
    "import csv\n",
    "df=pd.read_csv('commonFile.csv')"
   ]
  },
  {
   "cell_type": "code",
   "execution_count": 64,
   "metadata": {},
   "outputs": [
    {
     "data": {
      "text/html": [
       "<div>\n",
       "<style scoped>\n",
       "    .dataframe tbody tr th:only-of-type {\n",
       "        vertical-align: middle;\n",
       "    }\n",
       "\n",
       "    .dataframe tbody tr th {\n",
       "        vertical-align: top;\n",
       "    }\n",
       "\n",
       "    .dataframe thead th {\n",
       "        text-align: right;\n",
       "    }\n",
       "</style>\n",
       "<table border=\"1\" class=\"dataframe\">\n",
       "  <thead>\n",
       "    <tr style=\"text-align: right;\">\n",
       "      <th></th>\n",
       "      <th>Id</th>\n",
       "      <th>Name</th>\n",
       "      <th>Date</th>\n",
       "      <th>Time</th>\n",
       "    </tr>\n",
       "  </thead>\n",
       "  <tbody>\n",
       "    <tr>\n",
       "      <th>0</th>\n",
       "      <td>61</td>\n",
       "      <td>['pawan']</td>\n",
       "      <td>2019-05-05</td>\n",
       "      <td>12:04:36</td>\n",
       "    </tr>\n",
       "  </tbody>\n",
       "</table>\n",
       "</div>"
      ],
      "text/plain": [
       "   Id       Name        Date      Time\n",
       "0  61  ['pawan']  2019-05-05  12:04:36"
      ]
     },
     "execution_count": 64,
     "metadata": {},
     "output_type": "execute_result"
    }
   ],
   "source": [
    "df"
   ]
  },
  {
   "cell_type": "code",
   "execution_count": 101,
   "metadata": {},
   "outputs": [
    {
     "data": {
      "text/html": [
       "<div>\n",
       "<style scoped>\n",
       "    .dataframe tbody tr th:only-of-type {\n",
       "        vertical-align: middle;\n",
       "    }\n",
       "\n",
       "    .dataframe tbody tr th {\n",
       "        vertical-align: top;\n",
       "    }\n",
       "\n",
       "    .dataframe thead th {\n",
       "        text-align: right;\n",
       "    }\n",
       "</style>\n",
       "<table border=\"1\" class=\"dataframe\">\n",
       "  <thead>\n",
       "    <tr style=\"text-align: right;\">\n",
       "      <th></th>\n",
       "      <th>Id</th>\n",
       "      <th>Name</th>\n",
       "    </tr>\n",
       "  </thead>\n",
       "  <tbody>\n",
       "    <tr>\n",
       "      <th>0</th>\n",
       "      <td>60.0</td>\n",
       "      <td>pankaj</td>\n",
       "    </tr>\n",
       "    <tr>\n",
       "      <th>1</th>\n",
       "      <td>NaN</td>\n",
       "      <td>NaN</td>\n",
       "    </tr>\n",
       "    <tr>\n",
       "      <th>2</th>\n",
       "      <td>NaN</td>\n",
       "      <td>NaN</td>\n",
       "    </tr>\n",
       "    <tr>\n",
       "      <th>3</th>\n",
       "      <td>NaN</td>\n",
       "      <td>NaN</td>\n",
       "    </tr>\n",
       "    <tr>\n",
       "      <th>4</th>\n",
       "      <td>110.0</td>\n",
       "      <td>Deepika</td>\n",
       "    </tr>\n",
       "    <tr>\n",
       "      <th>5</th>\n",
       "      <td>NaN</td>\n",
       "      <td>NaN</td>\n",
       "    </tr>\n",
       "    <tr>\n",
       "      <th>6</th>\n",
       "      <td>110.0</td>\n",
       "      <td>deepika</td>\n",
       "    </tr>\n",
       "    <tr>\n",
       "      <th>7</th>\n",
       "      <td>NaN</td>\n",
       "      <td>NaN</td>\n",
       "    </tr>\n",
       "    <tr>\n",
       "      <th>8</th>\n",
       "      <td>34.0</td>\n",
       "      <td>Jitu</td>\n",
       "    </tr>\n",
       "    <tr>\n",
       "      <th>9</th>\n",
       "      <td>NaN</td>\n",
       "      <td>NaN</td>\n",
       "    </tr>\n",
       "    <tr>\n",
       "      <th>10</th>\n",
       "      <td>121.0</td>\n",
       "      <td>MrsSunita</td>\n",
       "    </tr>\n",
       "    <tr>\n",
       "      <th>11</th>\n",
       "      <td>NaN</td>\n",
       "      <td>NaN</td>\n",
       "    </tr>\n",
       "    <tr>\n",
       "      <th>12</th>\n",
       "      <td>130.0</td>\n",
       "      <td>MrsSunita</td>\n",
       "    </tr>\n",
       "  </tbody>\n",
       "</table>\n",
       "</div>"
      ],
      "text/plain": [
       "       Id       Name\n",
       "0    60.0     pankaj\n",
       "1     NaN        NaN\n",
       "2     NaN        NaN\n",
       "3     NaN        NaN\n",
       "4   110.0    Deepika\n",
       "5     NaN        NaN\n",
       "6   110.0    deepika\n",
       "7     NaN        NaN\n",
       "8    34.0       Jitu\n",
       "9     NaN        NaN\n",
       "10  121.0  MrsSunita\n",
       "11    NaN        NaN\n",
       "12  130.0  MrsSunita"
      ]
     },
     "execution_count": 101,
     "metadata": {},
     "output_type": "execute_result"
    }
   ],
   "source": [
    "import pandas as pd\n",
    "import numpy as np  \n",
    "df=pd.read_csv(\"StudentDetails\\StudentDetails.csv\")\n",
    "df"
   ]
  },
  {
   "cell_type": "code",
   "execution_count": 123,
   "metadata": {},
   "outputs": [
    {
     "data": {
      "text/html": [
       "<div>\n",
       "<style scoped>\n",
       "    .dataframe tbody tr th:only-of-type {\n",
       "        vertical-align: middle;\n",
       "    }\n",
       "\n",
       "    .dataframe tbody tr th {\n",
       "        vertical-align: top;\n",
       "    }\n",
       "\n",
       "    .dataframe thead th {\n",
       "        text-align: right;\n",
       "    }\n",
       "</style>\n",
       "<table border=\"1\" class=\"dataframe\">\n",
       "  <thead>\n",
       "    <tr style=\"text-align: right;\">\n",
       "      <th></th>\n",
       "      <th>Id</th>\n",
       "      <th>Name</th>\n",
       "    </tr>\n",
       "  </thead>\n",
       "  <tbody>\n",
       "    <tr>\n",
       "      <th>0</th>\n",
       "      <td>60.0</td>\n",
       "      <td>pankaj</td>\n",
       "    </tr>\n",
       "    <tr>\n",
       "      <th>4</th>\n",
       "      <td>110.0</td>\n",
       "      <td>Deepika</td>\n",
       "    </tr>\n",
       "    <tr>\n",
       "      <th>6</th>\n",
       "      <td>110.0</td>\n",
       "      <td>deepika</td>\n",
       "    </tr>\n",
       "    <tr>\n",
       "      <th>8</th>\n",
       "      <td>34.0</td>\n",
       "      <td>Jitu</td>\n",
       "    </tr>\n",
       "    <tr>\n",
       "      <th>10</th>\n",
       "      <td>121.0</td>\n",
       "      <td>MrsSunita</td>\n",
       "    </tr>\n",
       "    <tr>\n",
       "      <th>12</th>\n",
       "      <td>130.0</td>\n",
       "      <td>MrsSunita</td>\n",
       "    </tr>\n",
       "  </tbody>\n",
       "</table>\n",
       "</div>"
      ],
      "text/plain": [
       "       Id       Name\n",
       "0    60.0     pankaj\n",
       "4   110.0    Deepika\n",
       "6   110.0    deepika\n",
       "8    34.0       Jitu\n",
       "10  121.0  MrsSunita\n",
       "12  130.0  MrsSunita"
      ]
     },
     "execution_count": 123,
     "metadata": {},
     "output_type": "execute_result"
    }
   ],
   "source": [
    "df"
   ]
  },
  {
   "cell_type": "code",
   "execution_count": 136,
   "metadata": {},
   "outputs": [],
   "source": [
    "import pandas as pd\n",
    "import numpy as np\n",
    "import os,csv\n",
    "df=pd.read_csv(\"StudentDetails\\StudentDetails.csv\")\n",
    "df.dropna(thresh=1,inplace=True)\n",
    "import sqlite3\n",
    "conn = sqlite3.connect(\"flights.db\")\n",
    "c = conn.cursor()\n",
    "from datetime import datetime\n",
    "df.to_sql(\"daily_flights1\", conn, if_exists=\"replace\")\n",
    "df=pd.read_sql_query(\"select * from daily_flights1 where Name = 'pankaj' \", conn)\n",
    "#conn.commit()\n",
    "#conn.close()\n",
    "df\n",
    "import pandas as pd\n",
    "df.to_csv('myDataFrame.csv')\n"
   ]
  },
  {
   "cell_type": "code",
   "execution_count": 110,
   "metadata": {},
   "outputs": [
    {
     "data": {
      "text/html": [
       "<div>\n",
       "<style scoped>\n",
       "    .dataframe tbody tr th:only-of-type {\n",
       "        vertical-align: middle;\n",
       "    }\n",
       "\n",
       "    .dataframe tbody tr th {\n",
       "        vertical-align: top;\n",
       "    }\n",
       "\n",
       "    .dataframe thead th {\n",
       "        text-align: right;\n",
       "    }\n",
       "</style>\n",
       "<table border=\"1\" class=\"dataframe\">\n",
       "  <thead>\n",
       "    <tr style=\"text-align: right;\">\n",
       "      <th></th>\n",
       "      <th>Id</th>\n",
       "      <th>Name</th>\n",
       "    </tr>\n",
       "  </thead>\n",
       "  <tbody>\n",
       "    <tr>\n",
       "      <th>0</th>\n",
       "      <td>60.0</td>\n",
       "      <td>pankaj</td>\n",
       "    </tr>\n",
       "    <tr>\n",
       "      <th>4</th>\n",
       "      <td>110.0</td>\n",
       "      <td>Deepika</td>\n",
       "    </tr>\n",
       "    <tr>\n",
       "      <th>6</th>\n",
       "      <td>110.0</td>\n",
       "      <td>deepika</td>\n",
       "    </tr>\n",
       "    <tr>\n",
       "      <th>8</th>\n",
       "      <td>34.0</td>\n",
       "      <td>Jitu</td>\n",
       "    </tr>\n",
       "    <tr>\n",
       "      <th>10</th>\n",
       "      <td>121.0</td>\n",
       "      <td>MrsSunita</td>\n",
       "    </tr>\n",
       "    <tr>\n",
       "      <th>12</th>\n",
       "      <td>130.0</td>\n",
       "      <td>MrsSunita</td>\n",
       "    </tr>\n",
       "  </tbody>\n",
       "</table>\n",
       "</div>"
      ],
      "text/plain": [
       "       Id       Name\n",
       "0    60.0     pankaj\n",
       "4   110.0    Deepika\n",
       "6   110.0    deepika\n",
       "8    34.0       Jitu\n",
       "10  121.0  MrsSunita\n",
       "12  130.0  MrsSunita"
      ]
     },
     "execution_count": 110,
     "metadata": {},
     "output_type": "execute_result"
    }
   ],
   "source": [
    "import pandas as pd\n",
    "import numpy as np\n",
    "import os,csv\n",
    "df=pd.read_csv(\"StudentDetails\\StudentDetails.csv\")\n",
    "df.dropna(thresh=1,inplace=True)\n",
    "import sqlite3\n",
    "conn = sqlite3.connect(\"flights.db\")\n",
    "c = conn.cursor()\n",
    "from datetime import datetime\n",
    "df.to_sql(\"daily_flights1\", conn, if_exists=\"replace\")\n",
    "df=pd.read_sql_query(\"select * from daily_flights1 where Date Between '2019-04-15' And '2019-04-16' \", conn)\n",
    "#conn.commit()\n",
    "#conn.close()\n",
    "df\n",
    "import pandas as pd\n",
    "df.to_csv('myDataFrame.csv')\n"
   ]
  },
  {
   "cell_type": "code",
   "execution_count": 137,
   "metadata": {},
   "outputs": [],
   "source": [
    "import pandas as pd\n",
    "import numpy as np\n",
    "import os,csv\n",
    "df=pd.read_csv(\"StudentDetails\\StudentDetails.csv\")\n",
    "df.dropna(thresh=1,inplace=True)\n",
    "import sqlite3\n",
    "conn = sqlite3.connect(\"flights.db\")\n",
    "c = conn.cursor()\n",
    "from datetime import datetime\n",
    "df.to_sql(\"daily_flights1\", conn, if_exists=\"replace\")\n",
    "df=pd.read_sql_query(\"select * from daily_flights1 where Id = 61 \", conn)\n",
    "#conn.commit()\n",
    "#conn.close()\n",
    "df\n",
    "import pandas as pd\n",
    "df.to_csv('myDataFrame.csv')\n"
   ]
  },
  {
   "cell_type": "code",
   "execution_count": 138,
   "metadata": {},
   "outputs": [
    {
     "ename": "ModuleNotFoundError",
     "evalue": "No module named 'tkcalendar'",
     "output_type": "error",
     "traceback": [
      "\u001b[1;31m---------------------------------------------------------------------------\u001b[0m",
      "\u001b[1;31mModuleNotFoundError\u001b[0m                       Traceback (most recent call last)",
      "\u001b[1;32m<ipython-input-138-37d0ba9f4a33>\u001b[0m in \u001b[0;36m<module>\u001b[1;34m()\u001b[0m\n\u001b[0;32m      2\u001b[0m \u001b[1;32mfrom\u001b[0m \u001b[0mtkinter\u001b[0m \u001b[1;32mimport\u001b[0m \u001b[0mttk\u001b[0m\u001b[1;33m\u001b[0m\u001b[0m\n\u001b[0;32m      3\u001b[0m \u001b[1;32mimport\u001b[0m \u001b[0msys\u001b[0m\u001b[1;33m\u001b[0m\u001b[0m\n\u001b[1;32m----> 4\u001b[1;33m \u001b[1;32mfrom\u001b[0m \u001b[0mtkcalendar\u001b[0m \u001b[1;32mimport\u001b[0m \u001b[0mCalendar\u001b[0m\u001b[1;33m,\u001b[0m \u001b[0mDateEntry\u001b[0m\u001b[1;33m\u001b[0m\u001b[0m\n\u001b[0m\u001b[0;32m      5\u001b[0m \u001b[0mroot\u001b[0m \u001b[1;33m=\u001b[0m \u001b[0mtk\u001b[0m\u001b[1;33m.\u001b[0m\u001b[0mTk\u001b[0m\u001b[1;33m(\u001b[0m\u001b[1;33m)\u001b[0m\u001b[1;33m\u001b[0m\u001b[0m\n\u001b[0;32m      6\u001b[0m \u001b[0mroot\u001b[0m\u001b[1;33m.\u001b[0m\u001b[0mtitle\u001b[0m\u001b[1;33m(\u001b[0m\u001b[1;34m'Ttk Calendar'\u001b[0m\u001b[1;33m)\u001b[0m\u001b[1;33m\u001b[0m\u001b[0m\n",
      "\u001b[1;31mModuleNotFoundError\u001b[0m: No module named 'tkcalendar'"
     ]
    }
   ],
   "source": [
    "import tkinter as tk\n",
    "from tkinter import ttk\n",
    "import sys\n",
    "from tkcalendar import Calendar, DateEntry\n",
    "root = tk.Tk()\n",
    "root.title('Ttk Calendar')\n",
    "ttkcal = Calendar(firstweekday=calendar.SUNDAY)\n",
    "ttkcal.pack(expand=1, fill='both')\n",
    "\n",
    "if 'win' not in sys.platform:\n",
    "    style = ttk.Style()\n",
    "    style.theme_use('clam')\n",
    "\n",
    "root.mainloop()\n",
    "\n",
    "x = ttkcal.selection    \n",
    "print ( x )"
   ]
  },
  {
   "cell_type": "code",
   "execution_count": 142,
   "metadata": {},
   "outputs": [
    {
     "data": {
      "text/plain": [
       "str"
      ]
     },
     "execution_count": 142,
     "metadata": {},
     "output_type": "execute_result"
    }
   ],
   "source": [
    "import pandas as pd\n",
    "import numpy as np\n",
    "import os,csv\n",
    "df=pd.read_csv(\"StudentDetails\\StudentDetails.csv\")\n",
    "df.dropna(thresh=1,inplace=True)\n",
    "Id=110\n",
    "aa=df.loc[df['Id'] == Id]['Name'].values\n",
    "aa[0]\n",
    "type(aa[0])"
   ]
  },
  {
   "cell_type": "code",
   "execution_count": 143,
   "metadata": {},
   "outputs": [
    {
     "data": {
      "text/plain": [
       "'\\n#!/usr/bin/python36\\nimport subprocess as sp\\nprint(\"content-type:text/html\")\\nprint(\"\\n\")\\n\\nprint(\\'\\'\\'<form action=\"action_page.py\">\\n  Birthday: <input type=\"date\" name=\"bday\">\\n  <input type=\"submit\">\\n</form>\\'\\'\\')\\n\\n\\n'"
      ]
     },
     "execution_count": 143,
     "metadata": {},
     "output_type": "execute_result"
    }
   ],
   "source": [
    "\"\"\"\n",
    "#!/usr/bin/python36\n",
    "import subprocess as sp\n",
    "print(\"content-type:text/html\")\n",
    "print(\"\\n\")\n",
    "\n",
    "print('''<form action=\"action_page.py\">\n",
    "  Birthday: <input type=\"date\" name=\"bday\">\n",
    "  <input type=\"submit\">\n",
    "</form>''')\n",
    "\n",
    "\n",
    "\"\"\"      "
   ]
  },
  {
   "cell_type": "code",
   "execution_count": 144,
   "metadata": {},
   "outputs": [
    {
     "ename": "ModuleNotFoundError",
     "evalue": "No module named 'dash'",
     "output_type": "error",
     "traceback": [
      "\u001b[1;31m---------------------------------------------------------------------------\u001b[0m",
      "\u001b[1;31mModuleNotFoundError\u001b[0m                       Traceback (most recent call last)",
      "\u001b[1;32m<ipython-input-144-18fa63848f8d>\u001b[0m in \u001b[0;36m<module>\u001b[1;34m()\u001b[0m\n\u001b[0;32m      1\u001b[0m \u001b[1;32mfrom\u001b[0m \u001b[0mdatetime\u001b[0m \u001b[1;32mimport\u001b[0m \u001b[0mdatetime\u001b[0m \u001b[1;32mas\u001b[0m \u001b[0mdt\u001b[0m\u001b[1;33m\u001b[0m\u001b[0m\n\u001b[1;32m----> 2\u001b[1;33m \u001b[1;32mimport\u001b[0m \u001b[0mdash\u001b[0m\u001b[1;33m\u001b[0m\u001b[0m\n\u001b[0m\u001b[0;32m      3\u001b[0m \u001b[1;32mimport\u001b[0m \u001b[0mdash_html_components\u001b[0m \u001b[1;32mas\u001b[0m \u001b[0mhtml\u001b[0m\u001b[1;33m\u001b[0m\u001b[0m\n\u001b[0;32m      4\u001b[0m \u001b[1;32mimport\u001b[0m \u001b[0mdash_core_components\u001b[0m \u001b[1;32mas\u001b[0m \u001b[0mdcc\u001b[0m\u001b[1;33m\u001b[0m\u001b[0m\n\u001b[0;32m      5\u001b[0m \u001b[1;33m\u001b[0m\u001b[0m\n",
      "\u001b[1;31mModuleNotFoundError\u001b[0m: No module named 'dash'"
     ]
    }
   ],
   "source": [
    "from datetime import datetime as dt\n",
    "import dash\n",
    "import dash_html_components as html\n",
    "import dash_core_components as dcc\n",
    "\n",
    "external_stylesheets = ['https://codepen.io/chriddyp/pen/bWLwgP.css']\n",
    "\n",
    "app = dash.Dash(__name__, external_stylesheets=external_stylesheets)\n",
    "app.layout = html.Div([\n",
    "    dcc.DatePickerSingle(\n",
    "        id='my-date-picker-single',\n",
    "        min_date_allowed=dt(1995, 8, 5),\n",
    "        max_date_allowed=dt(2017, 9, 19),\n",
    "        initial_visible_month=dt(2017, 8, 5),\n",
    "        date=str(dt(2017, 8, 25, 23, 59, 59))\n",
    "    ),\n",
    "    html.Div(id='output-container-date-picker-single')\n",
    "])\n",
    "\n",
    "\n",
    "@app.callback(\n",
    "    dash.dependencies.Output('output-container-date-picker-single', 'children'),\n",
    "    [dash.dependencies.Input('my-date-picker-single', 'date')])\n",
    "def update_output(date):\n",
    "    string_prefix = 'You have selected: '\n",
    "    if date is not None:\n",
    "        date = dt.strptime(date, '%Y-%m-%d')\n",
    "        date_string = date.strftime('%B %d, %Y')\n",
    "        return string_prefix + date_string\n",
    "\n",
    "\n",
    "if __name__ == '__main__':\n",
    "    app.run_server(debug=True)"
   ]
  },
  {
   "cell_type": "code",
   "execution_count": 45,
   "metadata": {},
   "outputs": [],
   "source": [
    "import time\n",
    "import datetime\n",
    "import sqlite3\n",
    "import pandas as pd\n",
    "ts = time.time()      \n",
    "date = datetime.datetime.fromtimestamp(ts).strftime('%Y-%m-%d')\n",
    "timeStamp = datetime.datetime.fromtimestamp(ts).strftime('%H:%M:%S')\n",
    "Hour,Minute,Second=timeStamp.split(\":\")\n",
    "fileName=date+\"_\"+Hour+\"-\"+Minute+\"-\"+Second\n",
    "db_name=fileName+\".db\"\n",
    "fileName=fileName+\".csv\"\n",
    "day=\"01\"\n",
    "month=\"02\"\n",
    "year=\"2019\"\n",
    "day2=\"7\"\n",
    "month2=\"05\"\n",
    "year2=\"2019\"\n",
    "    \n",
    "import sqlite3\n",
    "conn = sqlite3.connect(db_name)\n",
    "c = conn.cursor()\n",
    "import pandas as pd\n",
    "import numpy as np\n",
    "import os,csv\n",
    "df=pd.read_csv(\"commonFile.csv\")\n",
    "df.dropna(thresh=1,inplace=True)\n",
    "#print(df)  \n",
    "date1=day+\"/\"+month+\"/\"+year\n",
    "date2=day2+\"/\"+month2+\"/\"+year2\n",
    "ans=df[(df['Date']>=date1) & (df['Date'] <=date2)]    \n",
    "#df.to_sql(\"CETdata1\", conn, if_exists=\"replace\")\n",
    "#print(df)    \n",
    "#df=pd.read_sql_query(\"select * from CETdata1 where Date Between {} And {} ;\".format(date1,date2), conn)\n",
    "#print(df)\n",
    "ans.to_csv(fileName)\n",
    "conn.commit()\n",
    "conn.close()\n",
    "\n"
   ]
  },
  {
   "cell_type": "code",
   "execution_count": 8,
   "metadata": {},
   "outputs": [
    {
     "data": {
      "text/html": [
       "<div>\n",
       "<style scoped>\n",
       "    .dataframe tbody tr th:only-of-type {\n",
       "        vertical-align: middle;\n",
       "    }\n",
       "\n",
       "    .dataframe tbody tr th {\n",
       "        vertical-align: top;\n",
       "    }\n",
       "\n",
       "    .dataframe thead th {\n",
       "        text-align: right;\n",
       "    }\n",
       "</style>\n",
       "<table border=\"1\" class=\"dataframe\">\n",
       "  <thead>\n",
       "    <tr style=\"text-align: right;\">\n",
       "      <th></th>\n",
       "      <th>RollNo</th>\n",
       "      <th>Name</th>\n",
       "      <th>Date</th>\n",
       "      <th>Time</th>\n",
       "    </tr>\n",
       "  </thead>\n",
       "  <tbody>\n",
       "    <tr>\n",
       "      <th>0</th>\n",
       "      <td>61</td>\n",
       "      <td>pks</td>\n",
       "      <td>2019-05-05</td>\n",
       "      <td>21:57:31</td>\n",
       "    </tr>\n",
       "    <tr>\n",
       "      <th>1</th>\n",
       "      <td>61</td>\n",
       "      <td>pawan</td>\n",
       "      <td>2019-05-06</td>\n",
       "      <td>08:44:32</td>\n",
       "    </tr>\n",
       "  </tbody>\n",
       "</table>\n",
       "</div>"
      ],
      "text/plain": [
       "   RollNo   Name        Date      Time\n",
       "0      61    pks  2019-05-05  21:57:31\n",
       "1      61  pawan  2019-05-06  08:44:32"
      ]
     },
     "execution_count": 8,
     "metadata": {},
     "output_type": "execute_result"
    }
   ],
   "source": [
    "import pandas as pd\n",
    "import numpy as np\n",
    "import os,csv\n",
    "df=pd.read_csv(\"commonFile.csv\")\n",
    "df.dropna(thresh=1,inplace=True)\n",
    "df  "
   ]
  },
  {
   "cell_type": "code",
   "execution_count": 78,
   "metadata": {},
   "outputs": [
    {
     "name": "stdout",
     "output_type": "stream",
     "text": [
      "   RollNo   Name        Date      Time\n",
      "0      61    pks  2019-05-05  21:57:31\n",
      "1      61  pawan  2019-05-06  08:44:32\n",
      "2      61  pawan  2019-05-06  09:36:34\n",
      "<class 'str'>\n",
      "   RollNo   Name        Date      Time\n",
      "0      61    pks  2019-05-05  21:57:31\n",
      "1      61  pawan  2019-05-06  08:44:32\n",
      "2      61  pawan  2019-05-06  09:36:34\n"
     ]
    }
   ],
   "source": [
    "import pandas as pd\n",
    "import numpy as np\n",
    "import os,csv\n",
    "import sqlite3\n",
    "ts = time.time()      \n",
    "date = datetime.datetime.fromtimestamp(ts).strftime('%Y-%m-%d')\n",
    "timeStamp = datetime.datetime.fromtimestamp(ts).strftime('%H:%M:%S')\n",
    "Hour,Minute,Second=timeStamp.split(\":\")\n",
    "fileName=date+\"_\"+Hour+\"-\"+Minute+\"-\"+Second\n",
    "db_name=fileName+\".db\"\n",
    "fileName=fileName+\".csv\"\n",
    "conn = sqlite3.connect(db_name)\n",
    "c = conn.cursor()    \n",
    "df=pd.read_csv(\"commonFile.csv\")\n",
    "df.dropna(thresh=1,inplace=True)\n",
    "day=\"06\"\n",
    "month=\"06\"\n",
    "year=\"2019\"\n",
    "print(df)\n",
    "date1=day+\"/\"+month+\"/\"+year\n",
    "rollNo=61    \n",
    "df.to_sql(\"CETdata\", conn, if_exists=\"replace\")\n",
    "print(type(date1)) \n",
    "date1=day+\" \"+month+\" \"+year\n",
    "date_time_obj = datetime.datetime.strptime(date1, '%d %m %Y')\n",
    "\n",
    "#df=pd.read_sql_query(\"select * from CETdata where Date = RollNo = {} \".format(date1,rollNo), conn)\n",
    "ans=df.loc[(df['Date']==date_time_obj) ]\n",
    "print(ans)    \n",
    "    "
   ]
  },
  {
   "cell_type": "code",
   "execution_count": 95,
   "metadata": {},
   "outputs": [
    {
     "name": "stdout",
     "output_type": "stream",
     "text": [
      "<class 'str'>\n"
     ]
    },
    {
     "data": {
      "text/plain": [
       "datetime.datetime(2019, 6, 5, 0, 0)"
      ]
     },
     "execution_count": 95,
     "metadata": {},
     "output_type": "execute_result"
    }
   ],
   "source": [
    "print(type(df['Date'][0]))\n",
    "day=\"5\"\n",
    "month=\"6\"\n",
    "year=\"2019\"\n",
    "date1=day+\" \"+month+\" \"+year\n",
    "date_time_obj = datetime.datetime.strptime(date1, '%d %m %Y')\n",
    "date_time_obj"
   ]
  },
  {
   "cell_type": "code",
   "execution_count": 106,
   "metadata": {},
   "outputs": [
    {
     "name": "stdout",
     "output_type": "stream",
     "text": [
      "2019-06-18\n",
      "2019-06-18 00:00:00-04:00\n",
      "America/New_York\n"
     ]
    }
   ],
   "source": [
    "import datetime as dt  \n",
    "import pytz\n",
    "\n",
    "date_time_str = '18 06 2019'  \n",
    "date_time_obj = dt.datetime.strptime(date_time_str, '%d %m %Y')\n",
    "\n",
    "timezone = pytz.timezone('America/New_York')  \n",
    "timezone_date_time_obj = timezone.localize(date_time_obj)\n",
    "print(date_time_obj.date())\n",
    "print(timezone_date_time_obj)  \n",
    "print(timezone_date_time_obj.tzinfo)  "
   ]
  },
  {
   "cell_type": "code",
   "execution_count": 108,
   "metadata": {},
   "outputs": [
    {
     "name": "stdout",
     "output_type": "stream",
     "text": [
      "2019-05-06\n"
     ]
    }
   ],
   "source": [
    "import time\n",
    "import datetime\n",
    "ts = time.time()\n",
    "date = datetime.datetime.fromtimestamp(ts)\n",
    "date = datetime.datetime.fromtimestamp(ts)\n",
    "print(date.date())"
   ]
  },
  {
   "cell_type": "code",
   "execution_count": 100,
   "metadata": {},
   "outputs": [
    {
     "name": "stdout",
     "output_type": "stream",
     "text": [
      "2019-06-05\n"
     ]
    }
   ],
   "source": [
    "#print(type(df['Date'][0]))\n",
    "day=\"5\"\n",
    "month=\"6\"\n",
    "year=\"2019\"\n",
    "date1=day+\" \"+month+\" \"+year\n",
    "date_time_obj = datetime.datetime.strptime(date1, '%d %m %Y')\n",
    "print(date_time_obj.date())"
   ]
  },
  {
   "cell_type": "code",
   "execution_count": 109,
   "metadata": {},
   "outputs": [
    {
     "data": {
      "text/html": [
       "<div>\n",
       "<style scoped>\n",
       "    .dataframe tbody tr th:only-of-type {\n",
       "        vertical-align: middle;\n",
       "    }\n",
       "\n",
       "    .dataframe tbody tr th {\n",
       "        vertical-align: top;\n",
       "    }\n",
       "\n",
       "    .dataframe thead th {\n",
       "        text-align: right;\n",
       "    }\n",
       "</style>\n",
       "<table border=\"1\" class=\"dataframe\">\n",
       "  <thead>\n",
       "    <tr style=\"text-align: right;\">\n",
       "      <th></th>\n",
       "      <th>RollNo.</th>\n",
       "      <th>Name</th>\n",
       "      <th>Branch</th>\n",
       "    </tr>\n",
       "  </thead>\n",
       "  <tbody>\n",
       "    <tr>\n",
       "      <th>0</th>\n",
       "      <td>61</td>\n",
       "      <td>pks</td>\n",
       "      <td>CSE</td>\n",
       "    </tr>\n",
       "  </tbody>\n",
       "</table>\n",
       "</div>"
      ],
      "text/plain": [
       "   RollNo. Name Branch\n",
       "0       61  pks    CSE"
      ]
     },
     "execution_count": 109,
     "metadata": {},
     "output_type": "execute_result"
    }
   ],
   "source": [
    "import pandas as pd\n",
    "df=pd.read_csv('StudentDetails/StudentDetails.csv')\n",
    "df"
   ]
  },
  {
   "cell_type": "code",
   "execution_count": 111,
   "metadata": {},
   "outputs": [
    {
     "name": "stdout",
     "output_type": "stream",
     "text": [
      "   count(*)\n",
      "0         5\n",
      "1         2\n",
      "2         1\n",
      "3         3\n",
      "   count(*)\n",
      "0        11\n"
     ]
    }
   ],
   "source": [
    "import pandas as pd\n",
    "import numpy as np\n",
    "import os,csv\n",
    "import sqlite3\n",
    "ts = time.time()      \n",
    "date = datetime.datetime.fromtimestamp(ts).strftime('%Y-%m-%d')\n",
    "timeStamp = datetime.datetime.fromtimestamp(ts).strftime('%H:%M:%S')\n",
    "Hour,Minute,Second=timeStamp.split(\":\")\n",
    "fileName=date+\"_\"+Hour+\"-\"+Minute+\"-\"+Second\n",
    "db_name=fileName+\".db\"\n",
    "fileName=fileName+\".csv\"\n",
    "conn = sqlite3.connect(db_name)\n",
    "c = conn.cursor()    \n",
    "df=pd.read_csv(\"commonFile.csv\")\n",
    "df.dropna(thresh=1,inplace=True)\n",
    "\n",
    "df.to_sql(\"CETdata\", conn, if_exists=\"replace\")\n",
    "df=pd.read_sql_query(\"select count(*) from CETdata group by Subject;\", conn)\n",
    "df1=pd.read_sql_query(\"select count(*) from CETdata group by RollNo where subject;\", conn)\n",
    "#df1=pd.read_sql_query(\"select \")\n",
    "print(df)\n",
    "print(df1)\n",
    "conn.commit()\n",
    "conn.close()"
   ]
  },
  {
   "cell_type": "code",
   "execution_count": 5,
   "metadata": {},
   "outputs": [
    {
     "name": "stdout",
     "output_type": "stream",
     "text": [
      "              Subject        Date\n",
      "0  Distributed System  06/05/2019\n",
      "1                  ip  07/05/2019\n",
      "2                  mc  08/05/2019\n",
      "3                 dsa  13/05/2019\n",
      "4  Distributed System  10/05/2019\n",
      "5  Distributed System  11/05/2019\n",
      "6                  mc  12/05/2019\n",
      "7  Distributed System  14/05/2019\n",
      "8                  mc  16/05/2019\n",
      "9    Image Processing  07/05/2019\n"
     ]
    }
   ],
   "source": [
    "import pandas as pd\n",
    "import numpy as np\n",
    "import os,csv\n",
    "import sqlite3,time,datetime\n",
    "ts = time.time()      \n",
    "date = datetime.datetime.fromtimestamp(ts).strftime('%Y-%m-%d')\n",
    "timeStamp = datetime.datetime.fromtimestamp(ts).strftime('%H:%M:%S')\n",
    "Hour,Minute,Second=timeStamp.split(\":\")\n",
    "fileName=date+\"_\"+Hour+\"-\"+Minute+\"-\"+Second\n",
    "db_name=fileName+\".db\"\n",
    "fileName=fileName+\".csv\"\n",
    "conn = sqlite3.connect(db_name)\n",
    "c = conn.cursor()    \n",
    "df=pd.read_csv(\"commonFile.csv\")\n",
    "df.dropna(thresh=1,inplace=True)\n",
    "df.to_sql(\"CETdata\", conn, if_exists=\"replace\")\n",
    "df=pd.read_sql_query(\"select Distinct Subject,Date  from CETdata ;\", conn)\n",
    "\n",
    "print(df)\n",
    "\n",
    "conn.commit()\n",
    "conn.close()"
   ]
  },
  {
   "cell_type": "code",
   "execution_count": null,
   "metadata": {},
   "outputs": [],
   "source": []
  }
 ],
 "metadata": {
  "kernelspec": {
   "display_name": "Python 3",
   "language": "python",
   "name": "python3"
  },
  "language_info": {
   "codemirror_mode": {
    "name": "ipython",
    "version": 3
   },
   "file_extension": ".py",
   "mimetype": "text/x-python",
   "name": "python",
   "nbconvert_exporter": "python",
   "pygments_lexer": "ipython3",
   "version": "3.6.4"
  }
 },
 "nbformat": 4,
 "nbformat_minor": 2
}
